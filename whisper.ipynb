{
 "cells": [
  {
   "cell_type": "markdown",
   "metadata": {},
   "source": [
    "# OpenAI Whisper 動作検証"
   ]
  },
  {
   "cell_type": "code",
   "execution_count": 2,
   "metadata": {},
   "outputs": [
    {
     "data": {
      "text/plain": [
       "True"
      ]
     },
     "execution_count": 2,
     "metadata": {},
     "output_type": "execute_result"
    }
   ],
   "source": [
    "import openai\n",
    "from dotenv import load_dotenv\n",
    "\n",
    "load_dotenv()"
   ]
  },
  {
   "cell_type": "code",
   "execution_count": 14,
   "metadata": {},
   "outputs": [],
   "source": [
    "audio_file = open('./My_Boy_Lollipop_vocal.wav', 'rb')"
   ]
  },
  {
   "cell_type": "code",
   "execution_count": 15,
   "metadata": {},
   "outputs": [],
   "source": [
    "transcript = openai.Audio.transcribe('whisper-1', audio_file)"
   ]
  },
  {
   "cell_type": "code",
   "execution_count": 16,
   "metadata": {},
   "outputs": [
    {
     "data": {
      "text/plain": [
       "<OpenAIObject at 0x7f579ef81540> JSON: {\n",
       "  \"text\": \"My boy Lollipop, you make my heart go giddy up You are as sweet as candy, you're my sugar dandy Oh, my boy Lollipop, you never, never leave me Because you do grieve me, my heart told me so I love you, I love you, I love you so But I don't want you to know I need you, I need you, I need you so And I'll never let you go Oh, my boy Lollipop, you make my heart go giddy up You set the world on fire, you are my one desire Oh, my boy Lollipop I love you, I love you, I love you so But I don't want you to know I need you, I need you, I need you so And I'll never let you go Oh, my boy Lollipop, you make my heart go giddy up You set the world on fire, you are my one desire Oh, my boy Lollipop Oh, my boy Lollipop\"\n",
       "}"
      ]
     },
     "metadata": {},
     "output_type": "display_data"
    }
   ],
   "source": [
    "display(transcript)"
   ]
  },
  {
   "cell_type": "markdown",
   "metadata": {},
   "source": [
    "### Without vocal isolation\n",
    "\n",
    "```\n",
    "My boy Lollipop,\n",
    "you make my heart go giddy up\n",
    "You are as sweet as candy,\n",
    "you're my sugar dandy Oh my boy Lollipop,\n",
    "don't ever ever leave me\n",
    "Because it would grieve me,\n",
    "my heart told me so\n",
    "I love you,\n",
    "I love you,\n",
    "I love you so\n",
    "But I want you to know\n",
    "I need you,\n",
    "I need you,\n",
    "I need you so\n",
    "And I'll never let you go\n",
    "Oh my boy Lollipop,\n",
    "you make my heart go giddy up\n",
    "You set the world on fire,\n",
    "you are my one desire\n",
    "You make my heart go giddy up\n",
    "I love you,\n",
    "I love you,\n",
    "I love you so\n",
    "But I want you to know I need you,\n",
    "I need you,\n",
    "I need you so\n",
    "And I'll never let you go Oh my boy Lollipop,\n",
    "you make my heart go giddy up\n",
    "You set the world on fire,\n",
    "you are my one desire\n",
    "What am I,\n",
    "Lollipop?\n",
    "What am I,\n",
    "Lollipop?\n",
    "My boy Lollipop,\n",
    "my boy Lollipop\n",
    "```"
   ]
  },
  {
   "cell_type": "markdown",
   "metadata": {},
   "source": [
    "### With vocal isolation\n",
    "\n",
    "```\n",
    "My boy Lollipop,\n",
    "you make my heart go giddy up\n",
    "You are as sweet as candy,\n",
    "you're my sugar dandy\n",
    "Oh,\n",
    "my boy Lollipop,\n",
    "you never ever leave me\n",
    "Because you do grieve me,\n",
    "my heart told me so\n",
    "I love you,\n",
    "I love you,\n",
    "I love you so\n",
    "But I don't want you to know\n",
    "I need you,\n",
    "I need you,\n",
    "I need you so\n",
    "And I'll never let you go\n",
    "Oh,\n",
    "my boy Lollipop,\n",
    "you make my heart go giddy up\n",
    "You set the world on fire,\n",
    "you are my one desire\n",
    "Oh,\n",
    "my boy Lollipop\n",
    "I love you,\n",
    "I love you,\n",
    "I love you so\n",
    "But I don't want you to know\n",
    "I need you,\n",
    "I need you,\n",
    "I need you so\n",
    "And I'll never let you go\n",
    "Oh,\n",
    "my boy Lollipop,\n",
    "you make my heart go giddy up\n",
    "You set the world on fire,\n",
    "you are my one desire\n",
    "Oh,\n",
    "my boy Lollipop\n",
    "Oh,\n",
    "my boy Lollipop\n",
    "```"
   ]
  },
  {
   "cell_type": "markdown",
   "metadata": {},
   "source": []
  }
 ],
 "metadata": {
  "kernelspec": {
   "display_name": "Python 3",
   "language": "python",
   "name": "python3"
  },
  "language_info": {
   "codemirror_mode": {
    "name": "ipython",
    "version": 3
   },
   "file_extension": ".py",
   "mimetype": "text/x-python",
   "name": "python",
   "nbconvert_exporter": "python",
   "pygments_lexer": "ipython3",
   "version": "3.8.18"
  }
 },
 "nbformat": 4,
 "nbformat_minor": 2
}
